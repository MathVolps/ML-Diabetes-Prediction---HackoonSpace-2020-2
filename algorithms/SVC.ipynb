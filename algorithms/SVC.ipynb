{
  "nbformat": 4,
  "nbformat_minor": 0,
  "metadata": {
    "colab": {
      "name": "SVC.ipynb",
      "provenance": [],
      "collapsed_sections": []
    },
    "kernelspec": {
      "name": "python3",
      "display_name": "Python 3"
    }
  },
  "cells": [
    {
      "cell_type": "markdown",
      "metadata": {
        "id": "2BbfWKAwLzZR"
      },
      "source": [
        "#Importing"
      ]
    },
    {
      "cell_type": "code",
      "metadata": {
        "id": "tzOdIJPr0AnJ",
        "outputId": "a31092cd-f0c1-4010-c490-9e20e5f77fb5",
        "colab": {
          "base_uri": "https://localhost:8080/",
          "height": 17
        }
      },
      "source": [
        "%matplotlib notebook\n",
        "from plotly.offline import init_notebook_mode, iplot\n",
        "from plotly.graph_objs import *\n",
        "\n",
        "init_notebook_mode(connected=True)                                                              # initiate notebook for offline plot\n",
        "# libraries:\n",
        "import numpy as np\n",
        "import pandas as pd\n",
        "import matplotlib.pyplot as plt\n",
        "import seaborn as sns\n",
        "\n",
        "# functions:\n",
        "from sklearn.model_selection import train_test_split                                            #split data \n",
        "from sklearn.svm import SVC                                                                     #SVC classifier\n",
        "from sklearn.metrics import confusion_matrix, precision_score, recall_score, accuracy_score     #metrics \n",
        "from sklearn.dummy import DummyClassifier                                                       #Dummy classifier\n",
        "from mlxtend.plotting import plot_learning_curves                                               #learning curves\n",
        "from sklearn.model_selection import cross_val_score                                             #cross-validation"
      ],
      "execution_count": 1,
      "outputs": [
        {
          "output_type": "display_data",
          "data": {
            "text/html": [
              "        <script type=\"text/javascript\">\n",
              "        window.PlotlyConfig = {MathJaxConfig: 'local'};\n",
              "        if (window.MathJax) {MathJax.Hub.Config({SVG: {font: \"STIX-Web\"}});}\n",
              "        if (typeof require !== 'undefined') {\n",
              "        require.undef(\"plotly\");\n",
              "        requirejs.config({\n",
              "            paths: {\n",
              "                'plotly': ['https://cdn.plot.ly/plotly-latest.min']\n",
              "            }\n",
              "        });\n",
              "        require(['plotly'], function(Plotly) {\n",
              "            window._Plotly = Plotly;\n",
              "        });\n",
              "        }\n",
              "        </script>\n",
              "        "
            ]
          },
          "metadata": {
            "tags": []
          }
        }
      ]
    },
    {
      "cell_type": "code",
      "metadata": {
        "id": "W9tm1nftmk_j"
      },
      "source": [
        "df = pd.read_csv('final_dataset.csv')                               #reading dataset"
      ],
      "execution_count": 2,
      "outputs": []
    },
    {
      "cell_type": "markdown",
      "metadata": {
        "id": "wUEHz2IkL3HF"
      },
      "source": [
        "###Selecting columns and splitting data"
      ]
    },
    {
      "cell_type": "code",
      "metadata": {
        "id": "voSf1GxghPKt"
      },
      "source": [
        "# defining features names\n",
        "features = list(df.columns)"
      ],
      "execution_count": 3,
      "outputs": []
    },
    {
      "cell_type": "code",
      "metadata": {
        "id": "TIL52W5OEIKS"
      },
      "source": [
        "target = \"class\"                                                    #target name\n",
        "y = df[target].values                                               #target values\n",
        "features.remove(target)                                             #removing target from features\n",
        "x = df[features].values                                             #feature values\n",
        "\n",
        "# splitting\n",
        "x_train, x_test, y_train, y_test = train_test_split(x, y, test_size = 0.2, random_state =0)"
      ],
      "execution_count": 4,
      "outputs": []
    },
    {
      "cell_type": "markdown",
      "metadata": {
        "id": "P25K29rkMGA-"
      },
      "source": [
        "#Training Classifier"
      ]
    },
    {
      "cell_type": "code",
      "metadata": {
        "execution": {
          "iopub.execute_input": "2020-09-09T13:55:01.028733Z",
          "iopub.status.busy": "2020-09-09T13:55:01.027650Z",
          "iopub.status.idle": "2020-09-09T13:55:01.035941Z",
          "shell.execute_reply": "2020-09-09T13:55:01.035270Z"
        },
        "papermill": {
          "duration": 0.063645,
          "end_time": "2020-09-09T13:55:01.036081",
          "exception": false,
          "start_time": "2020-09-09T13:55:00.972436",
          "status": "completed"
        },
        "tags": [],
        "id": "mKZNJ4M3mkvS",
        "outputId": "df8091ac-4783-45e0-ffce-6ad002d0ac01",
        "colab": {
          "base_uri": "https://localhost:8080/"
        }
      },
      "source": [
        "# Training the Support Vector Classifier on the training set\n",
        "classifier = SVC(C = 1.0, random_state=0, kernel = 'rbf')\n",
        "classifier.fit(x_train, y_train)"
      ],
      "execution_count": 5,
      "outputs": [
        {
          "output_type": "execute_result",
          "data": {
            "text/plain": [
              "SVC(C=1.0, break_ties=False, cache_size=200, class_weight=None, coef0=0.0,\n",
              "    decision_function_shape='ovr', degree=3, gamma='scale', kernel='rbf',\n",
              "    max_iter=-1, probability=False, random_state=0, shrinking=True, tol=0.001,\n",
              "    verbose=False)"
            ]
          },
          "metadata": {
            "tags": []
          },
          "execution_count": 5
        }
      ]
    },
    {
      "cell_type": "code",
      "metadata": {
        "execution": {
          "iopub.execute_input": "2020-09-09T13:55:01.138785Z",
          "iopub.status.busy": "2020-09-09T13:55:01.137730Z",
          "iopub.status.idle": "2020-09-09T13:55:01.143015Z",
          "shell.execute_reply": "2020-09-09T13:55:01.143843Z"
        },
        "papermill": {
          "duration": 0.060514,
          "end_time": "2020-09-09T13:55:01.144048",
          "exception": false,
          "start_time": "2020-09-09T13:55:01.083534",
          "status": "completed"
        },
        "tags": [],
        "id": "sH5JeIsTmkvU",
        "outputId": "43c53792-fbb2-474a-b21a-e2ea19631b72",
        "colab": {
          "base_uri": "https://localhost:8080/"
        }
      },
      "source": [
        "# Predicting the test set results\n",
        "y_pred = classifier.predict(x_test)\n",
        "print(y_pred)"
      ],
      "execution_count": 6,
      "outputs": [
        {
          "output_type": "stream",
          "text": [
            "[1. 1. 1. 0. 0. 1. 1. 1. 1. 1. 1. 0. 1. 1. 1. 1. 0. 1. 1. 1. 1. 1. 1. 0.\n",
            " 0. 0. 1. 1. 1. 1. 1. 0. 1. 1. 1. 1. 1. 0. 1. 1. 1. 0. 1. 1. 0. 1. 1. 0.\n",
            " 1. 0. 1. 0. 1. 0. 1. 0. 1. 1. 1. 1. 0. 0. 1. 0. 1. 1. 1. 1. 1. 1. 0. 0.\n",
            " 1. 1. 0. 1. 0. 1. 1. 0. 1. 1. 0. 0. 1. 1. 1. 1. 0. 0. 0. 0. 0. 0. 0. 1.\n",
            " 1. 1. 1. 0. 0. 1. 1. 1.]\n"
          ],
          "name": "stdout"
        }
      ]
    },
    {
      "cell_type": "markdown",
      "metadata": {
        "id": "6MPYwTT5MVFV"
      },
      "source": [
        "#Evaluating"
      ]
    },
    {
      "cell_type": "markdown",
      "metadata": {
        "id": "PlSfr6YpN45N"
      },
      "source": [
        "Dummy classifier"
      ]
    },
    {
      "cell_type": "code",
      "metadata": {
        "id": "gUMPak_qRUTu",
        "outputId": "eec95ec1-64a3-44ce-e8e8-285d3d85c17c",
        "colab": {
          "base_uri": "https://localhost:8080/"
        }
      },
      "source": [
        "dummy_clf = DummyClassifier(strategy = 'stratified').fit(x_train, y_train) #dummy classifier with stratified rule\n",
        "y_dummy_predictions = dummy_clf.predict(x_test)                            #making predictions with dummy classifier\n",
        "\n",
        "y_dummy_predictions"
      ],
      "execution_count": 7,
      "outputs": [
        {
          "output_type": "execute_result",
          "data": {
            "text/plain": [
              "array([0., 1., 1., 0., 1., 1., 1., 1., 0., 0., 1., 1., 1., 0., 1., 0., 1.,\n",
              "       1., 1., 0., 1., 0., 1., 1., 1., 0., 1., 0., 1., 0., 1., 0., 0., 0.,\n",
              "       1., 0., 1., 1., 1., 0., 0., 1., 0., 1., 0., 1., 0., 1., 0., 1., 1.,\n",
              "       1., 1., 1., 1., 1., 0., 0., 0., 0., 0., 1., 1., 1., 1., 1., 1., 0.,\n",
              "       1., 1., 0., 1., 1., 1., 1., 0., 1., 1., 1., 0., 1., 0., 1., 1., 0.,\n",
              "       0., 1., 0., 1., 1., 0., 0., 1., 1., 0., 1., 1., 1., 0., 1., 0., 0.,\n",
              "       1., 1.])"
            ]
          },
          "metadata": {
            "tags": []
          },
          "execution_count": 7
        }
      ]
    },
    {
      "cell_type": "code",
      "metadata": {
        "id": "zCbHazISM9D2",
        "outputId": "ab3ef482-c807-4ff7-94a7-3a7c9fe8317f",
        "colab": {
          "base_uri": "https://localhost:8080/"
        }
      },
      "source": [
        "dummy_clf.score(x_test, y_test)                 #accuracy score of dummy classifier\n"
      ],
      "execution_count": 8,
      "outputs": [
        {
          "output_type": "execute_result",
          "data": {
            "text/plain": [
              "0.5480769230769231"
            ]
          },
          "metadata": {
            "tags": []
          },
          "execution_count": 8
        }
      ]
    },
    {
      "cell_type": "code",
      "metadata": {
        "id": "nXIHqBN_mF1V",
        "outputId": "cde1e02b-fa09-457f-f8a9-f3b100676b2e",
        "colab": {
          "base_uri": "https://localhost:8080/"
        }
      },
      "source": [
        "precision_score(y_dummy_predictions, y_test)    #precision score of dummy classifier"
      ],
      "execution_count": 9,
      "outputs": [
        {
          "output_type": "execute_result",
          "data": {
            "text/plain": [
              "0.59375"
            ]
          },
          "metadata": {
            "tags": []
          },
          "execution_count": 9
        }
      ]
    },
    {
      "cell_type": "code",
      "metadata": {
        "id": "_nHFhHKnM9EP",
        "outputId": "799cd499-aabe-4239-b22a-31ad67e979bf",
        "colab": {
          "base_uri": "https://localhost:8080/"
        }
      },
      "source": [
        "recall_score(y_dummy_predictions, y_test)       #recall score of dummy classifier"
      ],
      "execution_count": 10,
      "outputs": [
        {
          "output_type": "execute_result",
          "data": {
            "text/plain": [
              "0.59375"
            ]
          },
          "metadata": {
            "tags": []
          },
          "execution_count": 10
        }
      ]
    },
    {
      "cell_type": "markdown",
      "metadata": {
        "id": "DTC1fwWxNdtL"
      },
      "source": [
        "Train and test accuracy"
      ]
    },
    {
      "cell_type": "code",
      "metadata": {
        "id": "G7Zp1cJSXTU8",
        "outputId": "bd93c6bd-17f9-4446-eff8-c6d166d2b7af",
        "colab": {
          "base_uri": "https://localhost:8080/"
        }
      },
      "source": [
        "print('Accuracy of SVC classifier on training set: {:.2f}'\n",
        "     .format(classifier.score(x_train, y_train)))\n",
        "print('Accuracy of SVC classifier on test set: {:.2f}'\n",
        "     .format(classifier.score(x_test, y_test)))"
      ],
      "execution_count": 11,
      "outputs": [
        {
          "output_type": "stream",
          "text": [
            "Accuracy of SVC classifier on training set: 0.88\n",
            "Accuracy of SVC classifier on test set: 0.93\n"
          ],
          "name": "stdout"
        }
      ]
    },
    {
      "cell_type": "markdown",
      "metadata": {
        "id": "FM5oYDkaNmYe"
      },
      "source": [
        "Confusion matrix"
      ]
    },
    {
      "cell_type": "code",
      "metadata": {
        "execution": {
          "iopub.execute_input": "2020-09-09T13:55:01.250379Z",
          "iopub.status.busy": "2020-09-09T13:55:01.249491Z",
          "iopub.status.idle": "2020-09-09T13:55:01.255928Z",
          "shell.execute_reply": "2020-09-09T13:55:01.255047Z"
        },
        "papermill": {
          "duration": 0.062138,
          "end_time": "2020-09-09T13:55:01.256122",
          "exception": false,
          "start_time": "2020-09-09T13:55:01.193984",
          "status": "completed"
        },
        "tags": [],
        "id": "q2E6agl8mkvW",
        "outputId": "688d558a-086d-4ac2-a7c0-1b8af03c32ce",
        "colab": {
          "base_uri": "https://localhost:8080/",
          "height": 313
        }
      },
      "source": [
        "# Making the confusion matrix:\n",
        "cm = confusion_matrix(y_test, y_pred)       #calculating (TP, TN, Fp and FN) \n",
        "\n",
        "df_cm = pd.DataFrame(cm)                    #transforming into a pd.DataFrame\n",
        "sns.heatmap(df_cm, annot=True)              #plotting\n",
        "plt.title('SVC Confusion Matrix')\n",
        "plt.ylabel('True label')\n",
        "plt.xlabel('Predicted label')\n",
        "#plt.savefig('image17.png')"
      ],
      "execution_count": 12,
      "outputs": [
        {
          "output_type": "execute_result",
          "data": {
            "text/plain": [
              "Text(0.5, 15.0, 'Predicted label')"
            ]
          },
          "metadata": {
            "tags": []
          },
          "execution_count": 12
        },
        {
          "output_type": "display_data",
          "data": {
            "image/png": "[encoded data removed]",
            "text/plain": [
              "<Figure size 432x288 with 2 Axes>"
            ]
          },
          "metadata": {
            "tags": [],
            "needs_background": "light"
          }
        }
      ]
    },
    {
      "cell_type": "markdown",
      "metadata": {
        "id": "JD08KiatNqX_"
      },
      "source": [
        "Curves"
      ]
    },
    {
      "cell_type": "code",
      "metadata": {
        "id": "VUkWVoPqB9ZE",
        "outputId": "bdd42c68-0508-4f49-8cd5-2f9b20c114ed",
        "colab": {
          "base_uri": "https://localhost:8080/",
          "height": 320
        }
      },
      "source": [
        "plot_learning_curves(x_train, y_train, x_test, y_test, classifier, scoring='recall', print_model=False)\n",
        "plt.title('Recall vs Training size Curve')\n",
        "plt.ylabel('Recall')\n",
        "#plt.savefig('image18.png')\n",
        "plt.show()"
      ],
      "execution_count": 13,
      "outputs": [
        {
          "output_type": "display_data",
          "data": {
            "image/png": "[encoded data removed]",
            "text/plain": [
              "<Figure size 432x288 with 1 Axes>"
            ]
          },
          "metadata": {
            "tags": []
          }
        }
      ]
    },
    {
      "cell_type": "code",
      "metadata": {
        "id": "LNwnMC8LZOiN",
        "outputId": "44609e7e-0fcc-4a88-923b-4216d5e00578",
        "colab": {
          "base_uri": "https://localhost:8080/",
          "height": 320
        }
      },
      "source": [
        "plot_learning_curves(x_train, y_train, x_test, y_test, classifier, scoring='precision', print_model=False)\n",
        "plt.title('Precision vs Training size Curve')\n",
        "plt.ylabel('Precision')\n",
        "#plt.savefig('image19.png')\n",
        "plt.show()"
      ],
      "execution_count": 14,
      "outputs": [
        {
          "output_type": "display_data",
          "data": {
            "image/png": "[encoded data removed]",
            "text/plain": [
              "<Figure size 432x288 with 1 Axes>"
            ]
          },
          "metadata": {
            "tags": []
          }
        }
      ]
    },
    {
      "cell_type": "markdown",
      "metadata": {
        "id": "sT5VatW0NzVD"
      },
      "source": [
        "Cross-validation"
      ]
    },
    {
      "cell_type": "code",
      "metadata": {
        "id": "gszM9z_8TGCk",
        "outputId": "7f4cc474-2dae-4a94-9a52-34fba25b6016",
        "colab": {
          "base_uri": "https://localhost:8080/"
        }
      },
      "source": [
        "precision = cross_val_score(estimator = classifier, X = x_train, y = y_train, cv = 5, scoring='precision')\n",
        "\n",
        "print(\"Precision: {:.2f} %\".format(precision.mean()*100))\n",
        "print(\"Standard Deviation: {:.2f} %\".format(precision.std()*100))"
      ],
      "execution_count": 15,
      "outputs": [
        {
          "output_type": "stream",
          "text": [
            "Precision: 87.62 %\n",
            "Standard Deviation: 6.07 %\n"
          ],
          "name": "stdout"
        }
      ]
    },
    {
      "cell_type": "code",
      "metadata": {
        "id": "fj4fUkRopUDf",
        "outputId": "d0787446-af4c-4a37-ca9c-a4c4ec5c2922",
        "colab": {
          "base_uri": "https://localhost:8080/"
        }
      },
      "source": [
        "recall = cross_val_score(estimator = classifier, X = x_train, y = y_train, cv = 5, scoring='recall')\n",
        "\n",
        "print(\"Recall: {:.2f} %\".format(recall.mean()*100))\n",
        "print(\"Standard Deviation: {:.2f} %\".format(recall.std()*100))"
      ],
      "execution_count": 16,
      "outputs": [
        {
          "output_type": "stream",
          "text": [
            "Recall: 95.33 %\n",
            "Standard Deviation: 3.58 %\n"
          ],
          "name": "stdout"
        }
      ]
    }
  ]
}