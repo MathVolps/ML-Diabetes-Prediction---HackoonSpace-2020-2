{
 "cells": [
  {
   "cell_type": "markdown",
   "metadata": {},
   "source": [
    "**Decision Tree Classification**"
   ]
  },
  {
   "cell_type": "markdown",
   "metadata": {},
   "source": [
    "**Imports**"
   ]
  },
  {
   "cell_type": "code",
   "execution_count": 14,
   "metadata": {},
   "outputs": [],
   "source": [
    "# importing the libraries:\n",
    "import numpy as np\n",
    "import matplotlib.pyplot as plt\n",
    "import pandas as pd"
   ]
  },
  {
   "cell_type": "markdown",
   "metadata": {},
   "source": [
    "**Obtation and Exploratory Analysis**"
   ]
  },
  {
   "cell_type": "code",
   "execution_count": 15,
   "metadata": {},
   "outputs": [
    {
     "name": "stdout",
     "output_type": "stream",
     "text": [
      "(520, 17)\n",
      "(328, 17)\n",
      "              Age\n",
      "count  520.000000\n",
      "mean    48.028846\n",
      "std     12.151466\n",
      "min     16.000000\n",
      "25%     39.000000\n",
      "50%     47.500000\n",
      "75%     57.000000\n",
      "max     90.000000\n"
     ]
    }
   ],
   "source": [
    "# importing the dataset:\n",
    "dataset = pd.read_csv('dataset.csv')\n",
    "\n",
    "# let´s see some features of it:\n",
    "# the dataset shape:\n",
    "print(dataset.shape)\n",
    "\n",
    "# how many men are in the dataset:\n",
    "men = dataset['Gender'] == 'Male'\n",
    "df_men = dataset[men]\n",
    "print(df_men.shape)\n",
    "\n",
    "# statistical data about the age of people in the dataset:\n",
    "print(dataset.describe())"
   ]
  },
  {
   "cell_type": "code",
   "execution_count": 16,
   "metadata": {},
   "outputs": [
    {
     "data": {
      "image/png": "[encoded data removed]",
      "text/plain": [
       "<Figure size 432x288 with 1 Axes>"
      ]
     },
     "metadata": {
      "needs_background": "light"
     },
     "output_type": "display_data"
    }
   ],
   "source": [
    "# histogram comparing classification (positive or negative) of people and whether or not they have obesity (yes or no):\n",
    "plt.hist(dataset['class'], bins=3);\n",
    "plt.hist(dataset['Obesity'], bins=3);\n",
    "plt.title('Diabetic and obese people');\n",
    "#plt.savefig('graphic_1.jpg', format='jpg')"
   ]
  },
  {
   "cell_type": "code",
   "execution_count": 17,
   "metadata": {},
   "outputs": [
    {
     "data": {
      "text/plain": [
       "Age                   0\n",
       "Gender                0\n",
       "Polyuria              0\n",
       "Polydipsia            0\n",
       "sudden weight loss    0\n",
       "weakness              0\n",
       "Polyphagia            0\n",
       "Genital thrush        0\n",
       "visual blurring       0\n",
       "Itching               0\n",
       "Irritability          0\n",
       "delayed healing       0\n",
       "partial paresis       0\n",
       "muscle stiffness      0\n",
       "Alopecia              0\n",
       "Obesity               0\n",
       "class                 0\n",
       "dtype: int64"
      ]
     },
     "execution_count": 17,
     "metadata": {},
     "output_type": "execute_result"
    }
   ],
   "source": [
    "# checking for missing data (NaN):\n",
    "dataset.isna().sum()"
   ]
  }
 ],
 "metadata": {
  "kernelspec": {
   "display_name": "Python 3",
   "language": "python",
   "name": "python3"
  },
  "language_info": {
   "codemirror_mode": {
    "name": "ipython",
    "version": 3
   },
   "file_extension": ".py",
   "mimetype": "text/x-python",
   "name": "python",
   "nbconvert_exporter": "python",
   "pygments_lexer": "ipython3",
   "version": "3.8.1"
  }
 },
 "nbformat": 4,
 "nbformat_minor": 4
}
