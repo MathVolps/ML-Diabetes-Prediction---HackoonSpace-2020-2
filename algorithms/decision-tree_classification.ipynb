{
 "cells": [
  {
   "cell_type": "markdown",
   "metadata": {},
   "source": [
    "Decision Tree Classification"
   ]
  },
  {
   "cell_type": "code",
   "execution_count": null,
   "metadata": {},
   "outputs": [],
   "source": [
    "# importing the libraries:\n",
    "import numpy as np\n",
    "import matplotlib.pyplot as plt\n",
    "import pandas as pd"
   ]
  },
  {
   "cell_type": "code",
   "execution_count": null,
   "metadata": {},
   "outputs": [],
   "source": [
    "# importing the dataset:\n",
    "dataset = pd.read_csv('dataset.csv')\n",
    "\n",
    "# let´s see some features of it:\n",
    "# the dataset shape:\n",
    "print(dataset.shape)\n",
    "\n",
    "# how many men are in the dataset:\n",
    "men = dataset['Gender'] == 'Male'\n",
    "df_men = dataset[men]\n",
    "print(df_men.shape)\n",
    "\n",
    "# statistical data about the age of people in the dataset:\n",
    "print(dataset.describe())"
   ]
  }
 ],
 "metadata": {
  "kernelspec": {
   "display_name": "Python 3",
   "language": "python",
   "name": "python3"
  },
  "language_info": {
   "codemirror_mode": {
    "name": "ipython",
    "version": 3
   },
   "file_extension": ".py",
   "mimetype": "text/x-python",
   "name": "python",
   "nbconvert_exporter": "python",
   "pygments_lexer": "ipython3",
   "version": "3.8.1"
  }
 },
 "nbformat": 4,
 "nbformat_minor": 4
}
