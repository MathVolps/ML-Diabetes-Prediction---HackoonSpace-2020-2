{
  "nbformat": 4,
  "nbformat_minor": 0,
  "metadata": {
    "colab": {
      "name": "KNN.ipynb",
      "provenance": [],
      "collapsed_sections": []
    },
    "kernelspec": {
      "name": "python3",
      "display_name": "Python 3"
    }
  },
  "cells": [
    {
      "cell_type": "markdown",
      "metadata": {
        "id": "A0b6pbBJh-sl"
      },
      "source": [
        "#Importing"
      ]
    },
    {
      "cell_type": "code",
      "metadata": {
        "id": "kOY7G3dsmajT"
      },
      "source": [
        "# libraries:\n",
        "import numpy as np\n",
        "import pandas as pd\n",
        "import matplotlib.pyplot as plt\n",
        "import seaborn as sns\n",
        "\n",
        "# functions:\n",
        "from sklearn.model_selection import train_test_split                                            #split data \n",
        "from sklearn.neighbors import KNeighborsClassifier                                              #KNN classifier\n",
        "from sklearn.metrics import confusion_matrix, precision_score, recall_score, accuracy_score     #metrics \n",
        "from sklearn.dummy import DummyClassifier                                                       #Dummy classifier\n",
        "from mlxtend.plotting import plot_learning_curves                                               #learning curves\n",
        "from sklearn.model_selection import cross_val_score                                             #cross-validation"
      ],
      "execution_count": 1,
      "outputs": []
    },
    {
      "cell_type": "code",
      "metadata": {
        "id": "W9tm1nftmk_j"
      },
      "source": [
        "df = pd.read_csv('final_dataset.csv')                               #reading dataset"
      ],
      "execution_count": 2,
      "outputs": []
    },
    {
      "cell_type": "markdown",
      "metadata": {
        "id": "LyByqH7EiGP5"
      },
      "source": [
        "###Selecting columns and splitting data"
      ]
    },
    {
      "cell_type": "code",
      "metadata": {
        "id": "2IPlpRpuEQWe"
      },
      "source": [
        "# defining features names\n",
        "features = list(df.columns)"
      ],
      "execution_count": 3,
      "outputs": []
    },
    {
      "cell_type": "code",
      "metadata": {
        "id": "TIL52W5OEIKS"
      },
      "source": [
        "target = \"class\"                                                    #target name\n",
        "y = df[target].values                                               #target values\n",
        "features.remove(target)                                             #removing target from features\n",
        "x = df[features].values                                             #feature values\n",
        "\n",
        "# splitting\n",
        "x_train, x_test, y_train, y_test = train_test_split(x, y, test_size = 0.2, random_state =0)"
      ],
      "execution_count": 4,
      "outputs": []
    },
    {
      "cell_type": "code",
      "metadata": {
        "execution": {
          "iopub.execute_input": "2020-09-09T13:54:59.602647Z",
          "iopub.status.busy": "2020-09-09T13:54:59.601766Z",
          "iopub.status.idle": "2020-09-09T13:54:59.955079Z",
          "shell.execute_reply": "2020-09-09T13:54:59.954248Z"
        },
        "papermill": {
          "duration": 0.412367,
          "end_time": "2020-09-09T13:54:59.955216",
          "exception": false,
          "start_time": "2020-09-09T13:54:59.542849",
          "status": "completed"
        },
        "tags": [],
        "id": "fVOfTixmmku9",
        "outputId": "762949a3-5c83-4e64-b3e5-80c45be10479",
        "colab": {
          "base_uri": "https://localhost:8080/",
          "height": 295
        }
      },
      "source": [
        "# Finding the optimum number of neighbors \n",
        "list1 = []                                                                        #list to storage precision scores\n",
        "for neighbors in range(3,10):\n",
        "    classifier = KNeighborsClassifier(n_neighbors=neighbors, metric='euclidean')  #KNN classifier\n",
        "    classifier.fit(x_train, y_train)                                              #training\n",
        "    y_pred = classifier.predict(x_test)                                           #predicting\n",
        "    list1.append(accuracy_score(y_test,y_pred))                                  \n",
        "plt.plot(list(range(3,10)), list1)\n",
        "plt.title('Accuracy vs K neighbors')\n",
        "plt.ylabel(\"Accuracy\")\n",
        "plt.xlabel('K neighbors')\n",
        "#plt.savefig('image7.png')\n",
        "plt.show()"
      ],
      "execution_count": 26,
      "outputs": [
        {
          "output_type": "display_data",
          "data": {
            "image/png": "[encoded data removed]",
            "text/plain": [
              "<Figure size 432x288 with 1 Axes>"
            ]
          },
          "metadata": {
            "tags": [],
            "needs_background": "light"
          }
        }
      ]
    },
    {
      "cell_type": "code",
      "metadata": {
        "execution": {
          "iopub.execute_input": "2020-09-09T13:55:00.058139Z",
          "iopub.status.busy": "2020-09-09T13:55:00.055828Z",
          "iopub.status.idle": "2020-09-09T13:55:00.063012Z",
          "shell.execute_reply": "2020-09-09T13:55:00.062208Z"
        },
        "papermill": {
          "duration": 0.060539,
          "end_time": "2020-09-09T13:55:00.063152",
          "exception": false,
          "start_time": "2020-09-09T13:55:00.002613",
          "status": "completed"
        },
        "tags": [],
        "id": "K2MiMX4fmkvC",
        "outputId": "245b31c8-7f1f-4b77-8058-5aaffe6946bd",
        "colab": {
          "base_uri": "https://localhost:8080/"
        }
      },
      "source": [
        "# Training the K Nearest Neighbor Classifier on the training set\n",
        "classifier = KNeighborsClassifier(n_neighbors=4, metric='euclidean')\n",
        "classifier.fit(x_train, y_train)"
      ],
      "execution_count": 6,
      "outputs": [
        {
          "output_type": "execute_result",
          "data": {
            "text/plain": [
              "KNeighborsClassifier(algorithm='auto', leaf_size=30, metric='euclidean',\n",
              "                     metric_params=None, n_jobs=None, n_neighbors=4, p=2,\n",
              "                     weights='uniform')"
            ]
          },
          "metadata": {
            "tags": []
          },
          "execution_count": 6
        }
      ]
    },
    {
      "cell_type": "code",
      "metadata": {
        "execution": {
          "iopub.execute_input": "2020-09-09T13:55:00.164936Z",
          "iopub.status.busy": "2020-09-09T13:55:00.163784Z",
          "iopub.status.idle": "2020-09-09T13:55:00.173700Z",
          "shell.execute_reply": "2020-09-09T13:55:00.173022Z"
        },
        "papermill": {
          "duration": 0.063842,
          "end_time": "2020-09-09T13:55:00.173840",
          "exception": false,
          "start_time": "2020-09-09T13:55:00.109998",
          "status": "completed"
        },
        "tags": [],
        "id": "WRJoCumgmkvG",
        "outputId": "541ba847-f7df-4190-b90f-3bd60d77da5d",
        "colab": {
          "base_uri": "https://localhost:8080/"
        }
      },
      "source": [
        "# Predicting the Test set results\n",
        "y_pred = classifier.predict(x_test)\n",
        "print(y_pred)"
      ],
      "execution_count": 7,
      "outputs": [
        {
          "output_type": "stream",
          "text": [
            "[1. 0. 1. 0. 0. 1. 1. 1. 1. 1. 0. 0. 1. 1. 1. 1. 0. 1. 1. 1. 1. 1. 1. 0.\n",
            " 0. 0. 1. 1. 0. 1. 1. 0. 1. 1. 1. 1. 1. 0. 1. 1. 0. 0. 1. 0. 0. 1. 1. 0.\n",
            " 1. 0. 1. 0. 1. 0. 1. 0. 1. 1. 1. 1. 0. 0. 1. 0. 1. 0. 1. 0. 1. 1. 0. 0.\n",
            " 1. 1. 0. 1. 0. 1. 1. 0. 1. 1. 0. 0. 1. 0. 1. 1. 0. 0. 0. 0. 0. 0. 0. 1.\n",
            " 1. 1. 0. 0. 0. 1. 1. 1.]\n"
          ],
          "name": "stdout"
        }
      ]
    },
    {
      "cell_type": "markdown",
      "metadata": {
        "id": "-65M9zLlj84i"
      },
      "source": [
        "#Evaluating"
      ]
    },
    {
      "cell_type": "markdown",
      "metadata": {
        "id": "PlSfr6YpN45N"
      },
      "source": [
        "Dummy classifier"
      ]
    },
    {
      "cell_type": "code",
      "metadata": {
        "id": "gUMPak_qRUTu",
        "outputId": "7af6e672-628c-4a9d-d82e-c59cf45a8187",
        "colab": {
          "base_uri": "https://localhost:8080/"
        }
      },
      "source": [
        "dummy_clf = DummyClassifier(strategy = 'most_frequent').fit(x_train, y_train)   #dummy classifier with stratified rule\n",
        "y_dummy_predictions = dummy_clf.predict(x_test)                                 #making predictions with dummy classifier\n",
        "\n",
        "y_dummy_predictions"
      ],
      "execution_count": 8,
      "outputs": [
        {
          "output_type": "execute_result",
          "data": {
            "text/plain": [
              "array([1., 1., 1., 1., 1., 1., 1., 1., 1., 1., 1., 1., 1., 1., 1., 1., 1.,\n",
              "       1., 1., 1., 1., 1., 1., 1., 1., 1., 1., 1., 1., 1., 1., 1., 1., 1.,\n",
              "       1., 1., 1., 1., 1., 1., 1., 1., 1., 1., 1., 1., 1., 1., 1., 1., 1.,\n",
              "       1., 1., 1., 1., 1., 1., 1., 1., 1., 1., 1., 1., 1., 1., 1., 1., 1.,\n",
              "       1., 1., 1., 1., 1., 1., 1., 1., 1., 1., 1., 1., 1., 1., 1., 1., 1.,\n",
              "       1., 1., 1., 1., 1., 1., 1., 1., 1., 1., 1., 1., 1., 1., 1., 1., 1.,\n",
              "       1., 1.])"
            ]
          },
          "metadata": {
            "tags": []
          },
          "execution_count": 8
        }
      ]
    },
    {
      "cell_type": "code",
      "metadata": {
        "id": "C0aOa0D1RUT9",
        "outputId": "a57dc6d4-e329-4212-bd17-75ad3b4a3256",
        "colab": {
          "base_uri": "https://localhost:8080/"
        }
      },
      "source": [
        "dummy_clf.score(x_test, y_test)                 #accuracy score of dummy classifier\n"
      ],
      "execution_count": 9,
      "outputs": [
        {
          "output_type": "execute_result",
          "data": {
            "text/plain": [
              "0.6153846153846154"
            ]
          },
          "metadata": {
            "tags": []
          },
          "execution_count": 9
        }
      ]
    },
    {
      "cell_type": "code",
      "metadata": {
        "id": "nXIHqBN_mF1V",
        "outputId": "21803c8e-8ece-46de-a1cd-12ec19c525a2",
        "colab": {
          "base_uri": "https://localhost:8080/"
        }
      },
      "source": [
        "precision_score(y_dummy_predictions, y_test)    #precision score of dummy classifier"
      ],
      "execution_count": 10,
      "outputs": [
        {
          "output_type": "execute_result",
          "data": {
            "text/plain": [
              "1.0"
            ]
          },
          "metadata": {
            "tags": []
          },
          "execution_count": 10
        }
      ]
    },
    {
      "cell_type": "code",
      "metadata": {
        "id": "vcyYBskhjQu6",
        "outputId": "60b2f997-06ed-4fd7-be35-e959d3a78f70",
        "colab": {
          "base_uri": "https://localhost:8080/"
        }
      },
      "source": [
        "recall_score(y_dummy_predictions, y_test)       #recall score of dummy classifier"
      ],
      "execution_count": 11,
      "outputs": [
        {
          "output_type": "execute_result",
          "data": {
            "text/plain": [
              "0.6153846153846154"
            ]
          },
          "metadata": {
            "tags": []
          },
          "execution_count": 11
        }
      ]
    },
    {
      "cell_type": "markdown",
      "metadata": {
        "id": "vtbrJc0OmT9U"
      },
      "source": [
        "Train and test accuracy"
      ]
    },
    {
      "cell_type": "code",
      "metadata": {
        "id": "RsWwZUMJXapz",
        "outputId": "f6f22bcc-3267-43e0-e3b8-57083705bff4",
        "colab": {
          "base_uri": "https://localhost:8080/"
        }
      },
      "source": [
        "print('Accuracy of KNN classifier on training set: {:.2f}'\n",
        "     .format(classifier.score(x_train, y_train)))\n",
        "print('Accuracy of KNN classifier on test set: {:.2f}'\n",
        "     .format(classifier.score(x_test, y_test)))"
      ],
      "execution_count": 12,
      "outputs": [
        {
          "output_type": "stream",
          "text": [
            "Accuracy of KNN classifier on training set: 0.92\n",
            "Accuracy of KNN classifier on test set: 0.94\n"
          ],
          "name": "stdout"
        }
      ]
    },
    {
      "cell_type": "markdown",
      "metadata": {
        "id": "v9Soxrl-mX1O"
      },
      "source": [
        "Confusion matrix"
      ]
    },
    {
      "cell_type": "code",
      "metadata": {
        "id": "ivMfsh2jmdfQ",
        "outputId": "82799a5f-31c8-4755-ecad-91edf12ec7a0",
        "colab": {
          "base_uri": "https://localhost:8080/",
          "height": 295
        }
      },
      "source": [
        "# Making the confusion matrix:\n",
        "cm = confusion_matrix(y_test, y_pred)       #calculating (TP, TN, Fp and FN) \n",
        "\n",
        "df_cm = pd.DataFrame(cm)                    #transforming into a pd.DataFrame\n",
        "sns.heatmap(df_cm, annot=True)              #plotting\n",
        "plt.title('KNN Confusion Matrix')\n",
        "plt.ylabel('True label')\n",
        "plt.xlabel('Predicted label')\n",
        "#plt.savefig('image8.png')"
      ],
      "execution_count": 25,
      "outputs": [
        {
          "output_type": "display_data",
          "data": {
            "image/png": "[encoded data removed]",
            "text/plain": [
              "<Figure size 432x288 with 2 Axes>"
            ]
          },
          "metadata": {
            "tags": [],
            "needs_background": "light"
          }
        }
      ]
    },
    {
      "cell_type": "markdown",
      "metadata": {
        "id": "HNelGDimNPo-"
      },
      "source": [
        "Curves"
      ]
    },
    {
      "cell_type": "code",
      "metadata": {
        "id": "AQ6WhuSaCLFD",
        "outputId": "690b6f90-2886-4061-d380-5b13c757770c",
        "colab": {
          "base_uri": "https://localhost:8080/",
          "height": 320
        }
      },
      "source": [
        "plot_learning_curves(x_train, y_train, x_test, y_test, classifier, scoring='recall', print_model=False)\n",
        "plt.title('Recall vs Training size Curve')\n",
        "plt.ylabel('Recall')\n",
        "#plt.savefig('image9.png')\n",
        "plt.show()"
      ],
      "execution_count": 24,
      "outputs": [
        {
          "output_type": "display_data",
          "data": {
            "image/png": "[encoded data removed]",
            "text/plain": [
              "<Figure size 432x288 with 1 Axes>"
            ]
          },
          "metadata": {
            "tags": []
          }
        }
      ]
    },
    {
      "cell_type": "code",
      "metadata": {
        "id": "WaY8GDZX3CNL",
        "outputId": "da375d9b-d71c-4bd2-a7e4-74d5fd0be54a",
        "colab": {
          "base_uri": "https://localhost:8080/",
          "height": 320
        }
      },
      "source": [
        "plot_learning_curves(x_train, y_train, x_test, y_test, classifier, scoring='precision', print_model=False)\n",
        "plt.title('Precision vs Training size  Curve')\n",
        "plt.ylabel('Precision')\n",
        "#plt.savefig('image10.png')\n",
        "plt.show()"
      ],
      "execution_count": 23,
      "outputs": [
        {
          "output_type": "display_data",
          "data": {
            "image/png": "[encoded data removed]",
            "text/plain": [
              "<Figure size 432x288 with 1 Axes>"
            ]
          },
          "metadata": {
            "tags": []
          }
        }
      ]
    },
    {
      "cell_type": "markdown",
      "metadata": {
        "id": "jHx7f-eenWU7"
      },
      "source": [
        "Cross-validation"
      ]
    },
    {
      "cell_type": "code",
      "metadata": {
        "id": "-9DuerolAUg1",
        "outputId": "5026312c-9e85-4743-eb68-08316ec8e575",
        "colab": {
          "base_uri": "https://localhost:8080/"
        }
      },
      "source": [
        "precision = cross_val_score(estimator = classifier, X = x_train, y = y_train, cv = 5, scoring= 'precision')\n",
        "\n",
        "print(\"Precision: {:.2f} %\".format(precision.mean()*100))\n",
        "print(\"Standard Deviation: {:.2f} %\".format(precision.std()*100))"
      ],
      "execution_count": 16,
      "outputs": [
        {
          "output_type": "stream",
          "text": [
            "Precision: 95.44 %\n",
            "Standard Deviation: 1.88 %\n"
          ],
          "name": "stdout"
        }
      ]
    },
    {
      "cell_type": "code",
      "metadata": {
        "id": "fj4fUkRopUDf",
        "outputId": "d4b4dd76-0ac6-4ced-fd00-0767d6ef19e6",
        "colab": {
          "base_uri": "https://localhost:8080/"
        }
      },
      "source": [
        "recall = cross_val_score(estimator = classifier, X = x_train, y = y_train, cv = 5, scoring='recall')\n",
        "\n",
        "print(\"Recall: {:.2f} %\".format(recall.mean()*100))\n",
        "print(\"Standard Deviation: {:.2f} %\".format(recall.std()*100))"
      ],
      "execution_count": 17,
      "outputs": [
        {
          "output_type": "stream",
          "text": [
            "Recall: 87.90 %\n",
            "Standard Deviation: 4.98 %\n"
          ],
          "name": "stdout"
        }
      ]
    }
  ]
}